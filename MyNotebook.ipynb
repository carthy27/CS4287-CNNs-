{
  "nbformat": 4,
  "nbformat_minor": 0,
  "metadata": {
    "colab": {
      "provenance": [],
      "machine_shape": "hm",
      "gpuType": "A100"
    },
    "kernelspec": {
      "name": "python3",
      "display_name": "Python 3"
    },
    "language_info": {
      "name": "python"
    },
    "accelerator": "GPU"
  },
  "cells": [
    {
      "cell_type": "code",
      "source": [
        "!pip install torch torchvision matplotlib\n",
        "\n",
        "import tensorflow as tf\n",
        "from torchvision import models, transforms\n",
        "import torch\n",
        "import torch.nn as nn\n",
        "import torch.optim as optim\n",
        "from torchvision.datasets import CIFAR10\n",
        "from torch.utils.data import DataLoader\n",
        "import matplotlib.pyplot as plt\n",
        "import numpy as np\n",
        "\n"
      ],
      "metadata": {
        "id": "JbNZYVCaw4tW"
      },
      "execution_count": null,
      "outputs": []
    },
    {
      "cell_type": "code",
      "source": [
        "# Define transformations\n",
        "transform = transforms.Compose([\n",
        "    transforms.Resize((299, 299)),  # Resize images to 299x299 pixels, needed for Inception V3\n",
        "    transforms.ToTensor(),  # Convertin images to tensors\n",
        "    transforms.Normalize((0.5, 0.5, 0.5), (0.5, 0.5, 0.5))  # Adjusting pixel values to between -1 and 1\n",
        "])\n",
        "\n",
        "# Load CIFAR-10 dataset\n",
        "train_dataset = CIFAR10(root='./data', train=True, download=True, transform=transform)\n",
        "test_dataset = CIFAR10(root='./data', train=False, download=True, transform=transform)\n",
        "\n",
        "train_loader = DataLoader(train_dataset, batch_size=32, shuffle=True)\n",
        "test_loader = DataLoader(test_dataset, batch_size=32, shuffle=False)\n",
        "\n",
        "print(\"Dataset loaded.\")\n",
        "\n"
      ],
      "metadata": {
        "colab": {
          "base_uri": "https://localhost:8080/"
        },
        "id": "Itxl4fSiyzGK",
        "outputId": "7254dc65-8347-4c88-c762-c673c01d971a"
      },
      "execution_count": null,
      "outputs": [
        {
          "output_type": "stream",
          "name": "stdout",
          "text": [
            "Downloading https://www.cs.toronto.edu/~kriz/cifar-10-python.tar.gz to ./data/cifar-10-python.tar.gz\n"
          ]
        },
        {
          "output_type": "stream",
          "name": "stderr",
          "text": [
            "100%|██████████| 170M/170M [00:12<00:00, 13.3MB/s]\n"
          ]
        },
        {
          "output_type": "stream",
          "name": "stdout",
          "text": [
            "Extracting ./data/cifar-10-python.tar.gz to ./data\n",
            "Files already downloaded and verified\n",
            "Dataset loaded.\n"
          ]
        }
      ]
    },
    {
      "cell_type": "code",
      "source": [
        "# Load pre-trained Inception V3 moel\n",
        "inception = models.inception_v3(pretrained=True)\n",
        "\n",
        "inception.fc = nn.Linear(2048, 10)  # Adjust final layer for 10 classes\n",
        "\n",
        "inception = inception.cuda()\n",
        "\n",
        "inception.aux_logits = False  # Disable auxiliary classifier to prevent errors during training\n",
        "\n",
        "# Load Pre-Trained ResNet50\n",
        "resnet = models.resnet50(pretrained=True)\n",
        "\n",
        "resnet.fc = nn.Linear(2048, 10)  # Adjust final layer for 10 classes\n",
        "\n",
        "resnet = resnet.cuda()\n",
        "\n",
        "print(\"Models loaded and customized for CIFAR-10.\")\n"
      ],
      "metadata": {
        "colab": {
          "base_uri": "https://localhost:8080/"
        },
        "id": "gllJS-aVy1XK",
        "outputId": "1825feb6-1dd0-4365-a652-f23918b07806"
      },
      "execution_count": null,
      "outputs": [
        {
          "output_type": "stream",
          "name": "stderr",
          "text": [
            "/usr/local/lib/python3.10/dist-packages/torchvision/models/_utils.py:208: UserWarning: The parameter 'pretrained' is deprecated since 0.13 and may be removed in the future, please use 'weights' instead.\n",
            "  warnings.warn(\n",
            "/usr/local/lib/python3.10/dist-packages/torchvision/models/_utils.py:223: UserWarning: Arguments other than a weight enum or `None` for 'weights' are deprecated since 0.13 and may be removed in the future. The current behavior is equivalent to passing `weights=Inception_V3_Weights.IMAGENET1K_V1`. You can also use `weights=Inception_V3_Weights.DEFAULT` to get the most up-to-date weights.\n",
            "  warnings.warn(msg)\n",
            "Downloading: \"https://download.pytorch.org/models/inception_v3_google-0cc3c7bd.pth\" to /root/.cache/torch/hub/checkpoints/inception_v3_google-0cc3c7bd.pth\n",
            "100%|██████████| 104M/104M [00:00<00:00, 222MB/s] \n",
            "/usr/local/lib/python3.10/dist-packages/torchvision/models/_utils.py:223: UserWarning: Arguments other than a weight enum or `None` for 'weights' are deprecated since 0.13 and may be removed in the future. The current behavior is equivalent to passing `weights=ResNet50_Weights.IMAGENET1K_V1`. You can also use `weights=ResNet50_Weights.DEFAULT` to get the most up-to-date weights.\n",
            "  warnings.warn(msg)\n",
            "Downloading: \"https://download.pytorch.org/models/resnet50-0676ba61.pth\" to /root/.cache/torch/hub/checkpoints/resnet50-0676ba61.pth\n",
            "100%|██████████| 97.8M/97.8M [00:00<00:00, 197MB/s]\n"
          ]
        },
        {
          "output_type": "stream",
          "name": "stdout",
          "text": [
            "Models loaded and customized for CIFAR-10.\n"
          ]
        }
      ]
    },
    {
      "cell_type": "code",
      "source": [
        "def train(model, loader, criterion, optimizer, epochs=1):\n",
        "    model.train()  # Set the model to training mode\n",
        "\n",
        "    for epoch in range(epochs):  # Loop over the specified number of epochs\n",
        "        running_loss = 0.0  # Initialize a variable to accumulate the loss for the current epoch\n",
        "\n",
        "        for inputs, labels in loader:\n",
        "            inputs, labels = inputs.cuda(), labels.cuda()  # Move inputs and labels to the GPU\n",
        "\n",
        "            # Zero the parameter gradients to avoid accumulation from previous steps\n",
        "            optimizer.zero_grad()\n",
        "\n",
        "            # Forward pass: compute model predictions\n",
        "            outputs = model(inputs)\n",
        "\n",
        "            # Calculate the loss\n",
        "            loss = criterion(outputs, labels)\n",
        "\n",
        "            # Backward pass: compute gradients\n",
        "            loss.backward()\n",
        "\n",
        "            # Update model parameters using the computed gradients\n",
        "            optimizer.step()\n",
        "\n",
        "            # Accumulate the loss for this batch\n",
        "            running_loss += loss.item()\n",
        "\n",
        "        # Print the average loss for the current epoch\n",
        "        print(f\"Epoch {epoch+1}, Loss: {running_loss/len(loader)}\")\n",
        "\n",
        "def evaluate(model, loader):\n",
        "    model.eval()  # Set the model to evaluation mode\n",
        "\n",
        "    #Initialize counters\n",
        "    correct = 0\n",
        "    total = 0\n",
        "\n",
        "    with torch.no_grad():  # No need for backpropagate in eval\n",
        "        for inputs, labels in loader:\n",
        "            inputs, labels = inputs.cuda(), labels.cuda()\n",
        "\n",
        "            # Forward pass\n",
        "            outputs = model(inputs)\n",
        "\n",
        "            # Get the predicted class by taking the index of the maximum output (i.e., the predicted class)\n",
        "            _, predicted = torch.max(outputs.data, 1)\n",
        "\n",
        "            # Update counters for total labels and correct predictions\n",
        "            total += labels.size(0)\n",
        "            correct += (predicted == labels).sum().item()\n",
        "\n",
        "    # Calculate accuracy as the percentage of correct predictions\n",
        "    accuracy = 100 * correct / total\n",
        "    print(f\"Accuracy: {accuracy:.2f}%\")\n",
        "\n",
        "    return accuracy\n"
      ],
      "metadata": {
        "id": "8kzHoD3qy_10"
      },
      "execution_count": null,
      "outputs": []
    },
    {
      "cell_type": "code",
      "source": [
        "criterion = nn.CrossEntropyLoss()\n",
        "# Set the loss function.\n",
        "\n",
        "optimizer_inception = optim.Adam(inception.parameters(), lr=0.001)\n",
        "# Uses Adam optimizer for efficiency. adjusts LR based on graients to aid fast convergence.\n",
        "\n",
        "print(\"Training Inception V3...\")\n",
        "\n",
        "train(inception, train_loader, criterion, optimizer_inception, epochs=1)\n",
        "# Call our train function to train the Inception V3 model using the CIFAR-10 training data.\n",
        "\n",
        "print(\"Evaluating Inception V3...\")\n",
        "\n",
        "evaluate(inception, test_loader)\n",
        "# Call our evaluate function to test the trained Inception V3 model on the CIFAR-10 test data.\n"
      ],
      "metadata": {
        "colab": {
          "base_uri": "https://localhost:8080/"
        },
        "id": "l0OvtJtezB_q",
        "outputId": "015bf9b8-8ca6-40a3-cf4a-d4ec53d3839e"
      },
      "execution_count": null,
      "outputs": [
        {
          "output_type": "stream",
          "name": "stdout",
          "text": [
            "Training Inception V3...\n",
            "Epoch 1, Loss: 0.7719107317623235\n",
            "Evaluating Inception V3...\n",
            "Accuracy: 82.53%\n"
          ]
        },
        {
          "output_type": "execute_result",
          "data": {
            "text/plain": [
              "82.53"
            ]
          },
          "metadata": {},
          "execution_count": 6
        }
      ]
    },
    {
      "cell_type": "code",
      "source": [
        "optimizer_resnet = optim.Adam(resnet.parameters(), lr=0.001)\n",
        "\n",
        "print(\"Training ResNet50...\")\n",
        "train(resnet, train_loader, criterion, optimizer_resnet, epochs=1)\n",
        "print(\"Evaluating ResNet50...\")\n",
        "evaluate(resnet, test_loader)"
      ],
      "metadata": {
        "colab": {
          "base_uri": "https://localhost:8080/"
        },
        "id": "FmxsFjcOzDXg",
        "outputId": "1f2eedd1-bc48-4a3d-b9b3-22535aec1d1b"
      },
      "execution_count": null,
      "outputs": [
        {
          "output_type": "stream",
          "name": "stdout",
          "text": [
            "Training ResNet50...\n",
            "Epoch 1, Loss: 1.1048722521128445\n",
            "Evaluating ResNet50...\n",
            "Accuracy: 65.25%\n"
          ]
        },
        {
          "output_type": "execute_result",
          "data": {
            "text/plain": [
              "65.25"
            ]
          },
          "metadata": {},
          "execution_count": 7
        }
      ]
    },
    {
      "cell_type": "code",
      "source": [
        "import time\n",
        "\n",
        "# Measure Inference Time\n",
        "def measure_inference_time(model, loader):\n",
        "    model.eval()\n",
        "    start_time = time.time()\n",
        "    with torch.no_grad():\n",
        "        for inputs, _ in loader:\n",
        "            inputs = inputs.cuda()\n",
        "            _ = model(inputs)\n",
        "    print(f\"Inference time: {time.time() - start_time:.2f} seconds\")\n",
        "\n",
        "print(\"Inception V3 Inference Time:\")\n",
        "measure_inference_time(inception, test_loader)\n",
        "\n",
        "print(\"ResNet50 Inference Time:\")\n",
        "measure_inference_time(resnet, test_loader)\n"
      ],
      "metadata": {
        "colab": {
          "base_uri": "https://localhost:8080/"
        },
        "id": "AG87-s4dzKAl",
        "outputId": "e3d0e0a3-d321-4947-b162-ec9fb5c33ad4"
      },
      "execution_count": null,
      "outputs": [
        {
          "output_type": "stream",
          "name": "stdout",
          "text": [
            "Inception V3 Inference Time:\n",
            "Inference time: 23.54 seconds\n",
            "ResNet50 Inference Time:\n",
            "Inference time: 21.51 seconds\n"
          ]
        }
      ]
    },
    {
      "cell_type": "code",
      "source": [],
      "metadata": {
        "id": "J2NU-kLfzLgH"
      },
      "execution_count": null,
      "outputs": []
    }
  ]
}